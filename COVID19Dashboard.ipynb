{
  "nbformat": 4,
  "nbformat_minor": 0,
  "metadata": {
    "colab": {
      "name": "COVID19Dashboard.ipynb",
      "provenance": [],
      "collapsed_sections": [],
      "toc_visible": true,
      "authorship_tag": "ABX9TyPPDeQQnO88zNm7wcqvg9Y1",
      "include_colab_link": true
    },
    "kernelspec": {
      "name": "python3",
      "display_name": "Python 3"
    }
  },
  "cells": [
    {
      "cell_type": "markdown",
      "metadata": {
        "id": "view-in-github",
        "colab_type": "text"
      },
      "source": [
        "<a href=\"https://colab.research.google.com/github/yy20190404/db_covid/blob/master/COVID19Dashboard.ipynb\" target=\"_parent\"><img src=\"https://colab.research.google.com/assets/colab-badge.svg\" alt=\"Open In Colab\"/></a>"
      ]
    },
    {
      "cell_type": "markdown",
      "metadata": {
        "id": "0fKPrxkIWtsQ",
        "colab_type": "text"
      },
      "source": [
        "# COVID19-Dashboard"
      ]
    },
    {
      "cell_type": "markdown",
      "metadata": {
        "id": "_bKkl797W-2A",
        "colab_type": "text"
      },
      "source": [
        "## Collect COVID19 data from web"
      ]
    },
    {
      "cell_type": "markdown",
      "metadata": {
        "id": "74_fubMipVjL",
        "colab_type": "text"
      },
      "source": [
        "### install python libraries, make directories\n"
      ]
    },
    {
      "cell_type": "code",
      "metadata": {
        "id": "TSaqamHNqG3L",
        "colab_type": "code",
        "colab": {}
      },
      "source": [
        "!python -m pip install --upgrade pip\n",
        "!python -m pip install requests-html\n",
        "!python -m pip install seaborn\n",
        "!pip install japanize-matplotlib\n",
        "!python -m pip install flask\n",
        "!wget https://bin.equinox.io/c/4VmDzA7iaHb/ngrok-stable-linux-amd64.zip\n",
        "!unzip ngrok-stable-linux-amd64.zip\n",
        "!mkdir templates\n",
        "!mkdir static\n",
        "!mkdir static/img\n",
        "!mkdir static/csv\n",
        "from google.colab import drive\n",
        "drive.mount(\"/content/drive\")\n",
        "!cp drive/'My Drive'/'Colab Notebooks'/japan-map-master/japan-map.jquery.json templates/\n",
        "!cp drive/'My Drive'/'Colab Notebooks'/japan-map-master/jquery.japan-map.js templates/\n",
        "!cp drive/'My Drive'/'Colab Notebooks'/japan-map-master/jquery.japan-map.min.js templates/"
      ],
      "execution_count": 0,
      "outputs": []
    },
    {
      "cell_type": "markdown",
      "metadata": {
        "id": "wDlACgyHXIQ6",
        "colab_type": "text"
      },
      "source": [
        "### Reshape data to use dashboard"
      ]
    },
    {
      "cell_type": "code",
      "metadata": {
        "id": "0KNjh_FTv3X0",
        "colab_type": "code",
        "colab": {}
      },
      "source": [
        "dldata = \"\"\"\n",
        "\n",
        "#!/usr/bin/env python\n",
        "#-*- coding:utf-8 -*-\n",
        "\n",
        "import datetime\n",
        "import gc\n",
        "import os\n",
        "import sys\n",
        "\n",
        "import numpy as np\n",
        "import pandas as pd\n",
        "\n",
        "import requests\n",
        "from requests_html import HTMLSession\n",
        "\n",
        "\n",
        "import matplotlib.pyplot as plt\n",
        "from matplotlib import rcParams\n",
        "from matplotlib.pyplot import figure\n",
        "import japanize_matplotlib\n",
        "\n",
        "\n",
        "def get_converted_multi_columns(df, just_second=False, to_snake_case=True):\n",
        "  if just_second:\n",
        "    return [col[1] for col in df.columns.values]\n",
        "  else:\n",
        "    if to_snake_case:\n",
        "        return [col[0] + '_' + col[1] for col in df.columns.values]\n",
        "    else:\n",
        "        return [col[0] + col[1].capitalize() for col in df.columns.values]\n",
        "\n",
        "def down_load():\n",
        "  HEADERS_DIC = {\"User-Agent\": \"Mozilla/5.0 (Windows NT 10.0; Win64; x64) AppleWebKit/537.36 (KHTML, like Gecko) Chrome/78.0.3904.97 Safari/537.36\"}\n",
        "  URLWW1 = \"https://data.humdata.org/hxlproxy/api/data-preview.csv?url=https%3A%2F%2Fraw.githubusercontent.com%2FCSSEGISandData%2FCOVID-19%2Fmaster%2Fcsse_covid_19_data%2Fcsse_covid_19_time_series%2Ftime_series_covid19_confirmed_global.csv&filename=time_series_covid19_confirmed_global.csv\"\n",
        "  URLWW2 = \"https://data.humdata.org/hxlproxy/api/data-preview.csv?url=https%3A%2F%2Fraw.githubusercontent.com%2FCSSEGISandData%2FCOVID-19%2Fmaster%2Fcsse_covid_19_data%2Fcsse_covid_19_time_series%2Ftime_series_covid19_deaths_global.csv&filename=time_series_covid19_deaths_global.csv\"\n",
        "  URLWW3 = \"https://data.humdata.org/hxlproxy/api/data-preview.csv?url=https%3A%2F%2Fraw.githubusercontent.com%2FCSSEGISandData%2FCOVID-19%2Fmaster%2Fcsse_covid_19_data%2Fcsse_covid_19_time_series%2Ftime_series_covid19_recovered_global.csv&filename=time_series_covid19_recovered_global.csv\"\n",
        "  URLJP  = \"https://dl.dropboxusercontent.com/s/6mztoeb6xf78g5w/COVID-19.csv\"\n",
        "  SAVE_NAMES = [\"covid19_ww_confirmed_global.csv\", \"covid19_ww_deaths_global.csv\",\"covid19_ww_recovered_global.csv\", \"covid19_jp.csv\"]\n",
        "  DIRCSV = \"static/csv/\"\n",
        "  urls = [URLWW1, URLWW2, URLWW3, URLJP]\n",
        "  del_cols = [\"Province/State\", \"Lat\", \"Long\"]\n",
        "  \n",
        "  ##############################################################################\n",
        "  ## Reshape of worldwide COVID19 daily numbers csv\n",
        "  ##############################################################################\n",
        "  today = datetime.date.today()\n",
        "  save_names = SAVE_NAMES.copy()\n",
        "  del save_names[-1]\n",
        "  i = 0\n",
        "  for f_name in save_names:\n",
        "    # Download a target file if it is not exist\n",
        "    if os.path.isfile(DIRCSV + f_name) == False:\n",
        "      r = requests.get(urls[i], headers=HEADERS_DIC)\n",
        "      with open(DIRCSV + f_name, mode='w') as f:\n",
        "        f.write(r.text)\n",
        "\n",
        "      ## Reshape csv file\n",
        "      df = pd.read_csv(DIRCSV + f_name)\n",
        "      ### Drop unnessesary columns\n",
        "      df = df.drop(del_cols, axis=1) \n",
        "      ### Reshape date style          \n",
        "      cols = df.columns\n",
        "      dates = []\n",
        "      for col in cols:\n",
        "        if col == 'Country/Region':\n",
        "          dates.append(col)\n",
        "        else:\n",
        "          day = datetime.datetime.strptime(col, '%m/%d/%y')  \n",
        "          dates.append(day.strftime('%Y-%m-%d'))\n",
        "      df.columns = dates\n",
        "      ### Group and sum each country\n",
        "      df = df.groupby(\"Country/Region\").sum()\n",
        "      ### Save as csv file\n",
        "      df.to_csv(DIRCSV + f_name)\n",
        "      ### Delete dataframe instance\n",
        "      del df\n",
        "    else:\n",
        "      ### Get file datetime\n",
        "      dt = os.path.getmtime(DIRCSV + f_name)\n",
        "      dt = datetime.datetime.fromtimestamp(dt)\n",
        "      dt = dt.strftime('%Y-%m-%d')\n",
        "      ## Download and reshape csv file when the exist file not made on today\n",
        "      if str(dt) != str(today):\n",
        "        r = requests.get(urls[i], headers=HEADERS_DIC)\n",
        "        with open(DIRCSV + f_name, mode='w') as f:\n",
        "          f.write(r.text)\n",
        "        df = pd.read_csv(DIRCSV + f_name)\n",
        "        df = df.drop(del_cols, axis=1) \n",
        "        cols = df.columns\n",
        "        dates = []\n",
        "        for col in cols:\n",
        "          if col == 'Country/Region':\n",
        "            dates.append(col)\n",
        "          else:\n",
        "            day = datetime.datetime.strptime(col, '%m/%d/%y')  \n",
        "            dates.append(day.strftime('%Y-%m-%d'))\n",
        "        df.columns = dates\n",
        "        ### Group and sum each countory\n",
        "        df = df.groupby(\"Country/Region\").sum()\n",
        "        df = df.set_index('Country/Region')\n",
        "        ### Save as csv file\n",
        "        df.to_csv(DIRCSV + f_name)\n",
        "        ### Delete dataframe instance\n",
        "        del df\n",
        "    i += 1\n",
        "\n",
        "  ##############################################################################\n",
        "  ## Reshape of Japanese COVID19 daily numbers csv\n",
        "  ##############################################################################\n",
        "  f_name = SAVE_NAMES[3]\n",
        "  today = datetime.date.today()\n",
        "  # Download a target file if it is not exist\n",
        "  if os.path.isfile(DIRCSV + f_name) == False:\n",
        "    r = requests.get(urls[3], headers=HEADERS_DIC)\n",
        "    with open(DIRCSV + f_name, mode='w') as f:\n",
        "      f.write(r.text)\n",
        "  else:\n",
        "    dt = os.path.getmtime(DIRCSV + f_name)\n",
        "    dt = datetime.datetime.fromtimestamp(dt)\n",
        "    dt = dt.strftime('%Y-%m-%d')\n",
        "    if today != dt:\n",
        "      r = requests.get(urls[3], headers=HEADERS_DIC)\n",
        "      with open(DIRCSV + f_name, mode='w') as f:\n",
        "        f.write(r.text)\n",
        "  ## Reshape csv file\n",
        "  df = pd.read_csv(DIRCSV + f_name)\n",
        "  \n",
        "  ################################################################################\n",
        "  ## Download of Japanese COVID19 data\n",
        "  ## Reshape the data\n",
        "  ################################################################################\n",
        "  cols = df.columns\n",
        "  df = df.loc[:, [\"通し\", \"受診都道府県\", \"確定日\", \"更新日時\", \"年代\", \"性別\", \"ステータス\", \"人数\"]]\n",
        "  df.columns = [\"No.\", \"Prefecture\", \"Date\", \"Saved_Date\", \"Genelation\", \"Sex\", \"Status\", \"Number\"]\n",
        "  df['Status'] = df['Status'].replace(np.nan, \"confirmed\")\n",
        "  df['Status'] = df['Status'].replace('退院', \"recovered\")\n",
        "  df['Status'] = df['Status'].replace('死(.*)', \"death\", regex=True)\n",
        "  df['Prefecture'] = df['Prefecture'].replace('中部国際空港', '愛知県')\n",
        "  df['Prefecture'] = df['Prefecture'].replace('成田空港', '千葉県')\n",
        "  df['Prefecture'] = df['Prefecture'].replace('羽田空港', '東京都')\n",
        "  df['Prefecture'] = df['Prefecture'].replace('関西国際空港', '大阪府')\n",
        "  sr = df['Saved_Date']\n",
        "  modified_date = str(sr[0])\n",
        "  modified_date = datetime.datetime.strptime(modified_date, '%m/%d/%Y %H:%M')\n",
        "  modified_date = modified_date.strftime('%Y-%m-%d %H:%M')\n",
        "  df.at[0, 'Saved_Date'] = modified_date\n",
        "  df = df.dropna(subset=[\"Date\"])\n",
        "  dates = []\n",
        "  for date in df['Date']:\n",
        "    day = datetime.datetime.strptime(str(date), '%m/%d/%Y')\n",
        "    dates.append(day.strftime('%Y-%m-%d'))\n",
        "  df['Date'] = dates\n",
        "  df.to_csv(\"static/csv/covid19_jp_all.csv\")\n",
        "\n",
        "  ## 日本の都道府県別・日付別発症者数リスト\n",
        "  dfc = df.drop([\"No.\", \"Saved_Date\", \"Genelation\", \"Sex\", \"Status\"], axis=1)\n",
        "  dfc = dfc.groupby([\"Prefecture\", \"Date\"]).sum().unstack()\n",
        "  dfc = dfc.replace(np.nan, 0.0)\n",
        "  dfc.columns = get_converted_multi_columns(dfc, just_second=True)\n",
        "  dfc.to_csv(\"static/csv/covid19_jp_prf_cfm.csv\")\n",
        "\n",
        "  ## 日本の都道府県別・日付別死者数リスト\n",
        "  dfc = df.drop([\"No.\", \"Saved_Date\", \"Genelation\", \"Sex\", \"Number\"], axis=1)\n",
        "  dfc = dfc[dfc[\"Status\"] != \"confirmed\"]\n",
        "  dfc = dfc[dfc[\"Status\"] != \"recovered\"]\n",
        "  dfc[\"Status\"] = 1\n",
        "  dfc = dfc.groupby([\"Prefecture\", \"Date\"]).sum().unstack()\n",
        "  dfc = dfc.replace(np.nan, 0.0)\n",
        "  dfc.columns = get_converted_multi_columns(dfc, just_second=True)\n",
        "  dfc.to_csv(\"static/csv/covid19_jp_prf_dth.csv\")\n",
        "  \n",
        "  ## 日本の都道府県別・日付別退院者数リスト\n",
        "  dfc = df.drop([\"No.\", \"Saved_Date\", \"Genelation\", \"Sex\", \"Number\"], axis=1)\n",
        "  dfc = dfc[dfc[\"Status\"] != \"confirmed\"]\n",
        "  dfc = dfc[dfc[\"Status\"] != \"death\"]\n",
        "  dfc[\"Status\"] = 1\n",
        "  dfc = dfc.groupby([\"Prefecture\", \"Date\"]).sum().unstack()\n",
        "  dfc = dfc.replace(np.nan, 0.0)\n",
        "  dfc.columns = get_converted_multi_columns(dfc, just_second=True)\n",
        "  dfc.to_csv(\"static/csv/covid19_jp_prf_rcv.csv\")\n",
        "\n",
        "  ## 日本の都道府県別・ 男性数リスト\n",
        "  dfc = df.drop([\"No.\", \"Saved_Date\", \"Genelation\", \"Status\", \"Number\"], axis=1)\n",
        "  dfc = dfc[dfc[\"Sex\"] != \"女性\"]\n",
        "  dfc[\"Sex\"] = 1\n",
        "  dfc = dfc.groupby([\"Prefecture\", \"Date\"]).sum().unstack()\n",
        "  dfc = dfc.replace(np.nan, 0.0)\n",
        "  dfc.columns = get_converted_multi_columns(dfc, just_second=True)\n",
        "  dfc.to_csv(\"static/csv/covid19_jp_prf_male.csv\")\n",
        "\n",
        "  ## 日本の都道府県別・ 女性数リスト\n",
        "  dfc = df.drop([\"No.\", \"Saved_Date\", \"Genelation\", \"Status\", \"Number\"], axis=1)\n",
        "  dfc = dfc[dfc[\"Sex\"] != \"男性\"]\n",
        "  dfc[\"Sex\"] = 1\n",
        "  dfc = dfc.groupby([\"Prefecture\", \"Date\"]).sum().unstack()\n",
        "  dfc = dfc.replace(np.nan, 0.0)\n",
        "  dfc.columns = get_converted_multi_columns(dfc, just_second=True)\n",
        "  dfc.to_csv(\"static/csv/covid19_jp_prf_female.csv\")\n",
        "\n",
        "  ## 日本の都道府県別・ 年代別リスト\n",
        "  dfc = df.drop([\"No.\", \"Date\", \"Saved_Date\", \"Sex\", \"Status\"], axis=1)\n",
        "  dfc = dfc.replace(np.nan, 99.0)\n",
        "  dfc = dfc.replace(\"0-10\", 1.0)\n",
        "  dfc = dfc.replace(\"10\", 10.0)\n",
        "  dfc = dfc.replace(\"20\", 20.0)\n",
        "  dfc = dfc.replace(\"30\", 30.0)\n",
        "  dfc = dfc.replace(\"40\", 40.0)\n",
        "  dfc = dfc.replace(\"50\", 50.0)\n",
        "  dfc = dfc.replace(\"60\", 60.0)\n",
        "  dfc = dfc.replace(\"70\", 70.0)\n",
        "  dfc = dfc.replace(\"80\", 80.0)\n",
        "  dfc = dfc.replace(\"90\", 90.0)\n",
        "  dfc = dfc.replace(10, 10.0)\n",
        "  dfc = dfc.replace(20, 20.0)\n",
        "  dfc = dfc.replace(30, 30.0)\n",
        "  dfc = dfc.replace(40, 40.0)\n",
        "  dfc = dfc.replace(50, 50.0)\n",
        "  dfc = dfc.replace(60, 60.0)\n",
        "  dfc = dfc.replace(70, 70.0)\n",
        "  dfc = dfc.replace(80, 80.0)\n",
        "  dfc = dfc.replace(90, 90.0)\n",
        "  dfc[\"Genelation\"] = dfc[\"Genelation\"].replace(\"不明\", 99.0)\n",
        "  dfc[\"Genelation\"] = dfc[\"Genelation\"].astype(int)\n",
        "  dfc = dfc.groupby([\"Prefecture\", \"Genelation\"]).sum().unstack()\n",
        "  dfc.columns = get_converted_multi_columns(dfc, just_second=True)\n",
        "  dfc = dfc.replace(np.nan, 0.0)\n",
        "  dfc = dfc.astype(int)\n",
        "  dfc.to_csv(\"static/csv/covid19_jp_prf_gen.csv\")\n",
        "\n",
        "if __name__ == \"__main__\":\n",
        "  down_load()\n",
        "\"\"\"\n",
        "\n",
        "  \n",
        "with open('dldata.py', mode='w') as f:\n",
        "  f.write(dldata)"
      ],
      "execution_count": 0,
      "outputs": []
    },
    {
      "cell_type": "markdown",
      "metadata": {
        "id": "S2SCT8AoXkat",
        "colab_type": "text"
      },
      "source": [
        "### Make files to use dashboard"
      ]
    },
    {
      "cell_type": "code",
      "metadata": {
        "id": "-2PciUKScU_z",
        "colab_type": "code",
        "colab": {}
      },
      "source": [
        "!pip install plotly\n",
        "!pip install dash\n",
        "!pip install dash-html-components\n",
        "!pip install dash-core-components\n",
        "!pip install dash-table\n",
        "!pip install dash-daq \n",
        "!pip install dash_bootstrap_components"
      ],
      "execution_count": 0,
      "outputs": []
    },
    {
      "cell_type": "markdown",
      "metadata": {
        "id": "lbm2SpV0X8Ed",
        "colab_type": "text"
      },
      "source": [
        "## Dashboard"
      ]
    },
    {
      "cell_type": "markdown",
      "metadata": {
        "id": "hWWIhqUyB2U4",
        "colab_type": "text"
      },
      "source": [
        "### Build internal server"
      ]
    },
    {
      "cell_type": "markdown",
      "metadata": {
        "id": "h7lRxIVEkbw5",
        "colab_type": "text"
      },
      "source": [
        "### app.pyの作成"
      ]
    },
    {
      "cell_type": "code",
      "metadata": {
        "id": "q50bHWo_jCQ9",
        "colab_type": "code",
        "colab": {}
      },
      "source": [
        "dashfile = \"\"\"\n",
        "# -*- coding: utf-8 -*-\n",
        "import os\n",
        "import datetime\n",
        "import dash\n",
        "import dash_core_components as dcc\n",
        "import dash_html_components as html\n",
        "from dash.dependencies import Input, Output\n",
        "import numpy as np\n",
        "import pandas as pd\n",
        "\n",
        "DIRCSV = 'static/csv/'\n",
        "CSV_FILES = ('covid19_ww_confirmed_global.csv',\n",
        "            'covid19_ww_deaths_global.csv',\n",
        "            'covid19_ww_recovered_global.csv',\n",
        "            'covid19_jp_prf_cfm.csv',\n",
        "            'covid19_jp_prf_dth.csv',\n",
        "            'covid19_jp_prf_rcv.csv',\n",
        "            'covid19_jp_prf_male.csv',\n",
        "            'covid19_jp_prf_female.csv',\n",
        "            'covid19_jp_prf_gen.csv')\n",
        "\n",
        "df0 = pd.read_csv(DIRCSV + CSV_FILES[0])\n",
        "df1 = pd.read_csv(DIRCSV + CSV_FILES[1])\n",
        "df2 = pd.read_csv(DIRCSV + CSV_FILES[2])\n",
        "df3 = pd.read_csv(DIRCSV + CSV_FILES[3])\n",
        "df4 = pd.read_csv(DIRCSV + CSV_FILES[4])\n",
        "df5 = pd.read_csv(DIRCSV + CSV_FILES[5])\n",
        "df6 = pd.read_csv(DIRCSV + CSV_FILES[6])\n",
        "df7 = pd.read_csv(DIRCSV + CSV_FILES[7])\n",
        "df8 = pd.read_csv(DIRCSV + CSV_FILES[8])\n",
        "\n",
        "df0 = df0.set_index('Country/Region')\n",
        "df0.loc['Worldwide'] = df0.sum()\n",
        "df0_x = df0.columns.tolist()\n",
        "df0_y = df0.loc['Worldwide', ].tolist()\n",
        "df0_z = df0.index.tolist()\n",
        "dict0 = []\n",
        "for x in df0_z:\n",
        "  dict0.append({'label': x, 'value': x})\n",
        "\n",
        "external_stylesheets = ['https://codepen.io/chriddyp/pen/bWLwgP.css']\n",
        "\n",
        "app = dash.Dash(__name__, external_stylesheets=external_stylesheets)\n",
        "\n",
        "# 背景色と文字色の設定\n",
        "colors = {\n",
        "    'background': '#111111',\n",
        "    'text': '#7FDBFF'\n",
        "}\n",
        "\n",
        "app.layout = html.Div(style={'backgroundColor': colors['background']}, children=[\n",
        "    html.H1(\n",
        "      children='COVID19ダッシュボード',\n",
        "      style={'textAlign': 'center',\n",
        "            'color': colors['text']\n",
        "      }\n",
        "    ),\n",
        "\n",
        "    html.Div(\n",
        "      children='COVID19ワールドワイド及び日本国内感染者数情報', \n",
        "      style={'textAlign': 'center',\n",
        "        'color': colors['text']\n",
        "      }\n",
        "    ),\n",
        "\n",
        "    dcc.Dropdown(\n",
        "      id='my_ticker_symbol',\n",
        "      options=dict0,\n",
        "      value='Worldwide',\n",
        "    ),\n",
        "\n",
        "    dcc.Graph(\n",
        "        id='example-graph',\n",
        "        figure={\n",
        "            'data':[\n",
        "              {'x': df0_x, 'y': df0_y}\n",
        "            ],\n",
        "            'layout': {\n",
        "                'plot_bgcolor': colors['background'],\n",
        "                'paper_bgcolor': colors['background'],\n",
        "                'font': {\n",
        "                    'color': colors['text']\n",
        "                }\n",
        "            }\n",
        "        }\n",
        "    )\n",
        "])\n",
        "\n",
        "@app.callback(\n",
        "  Output('example-graph', 'figure'),\n",
        "  [Input('my_ticker_symbol', 'value')])\n",
        "\n",
        "def update_graph(stock_ticker):\n",
        "  df0_y = df0.loc[stock_ticker, ].tolist()\n",
        "  fig = {\n",
        "    'data':[\n",
        "      {'x': df0_x, 'y': df0_y}\n",
        "    ],\n",
        "    'layout': {\n",
        "      'title': stock_ticker,\n",
        "      'plot_bgcolor': colors['background'],\n",
        "      'paper_bgcolor': colors['background'],\n",
        "      'font': {'color': colors['text']}\n",
        "    }\n",
        "  }\n",
        "  return fig\n",
        "\n",
        "\n",
        "if __name__ == '__main__':\n",
        "    app.run_server(debug=True)\n",
        "\"\"\"\n",
        "\n",
        "with open('app.py', mode='w') as f:\n",
        "  f.write(dashfile)"
      ],
      "execution_count": 0,
      "outputs": []
    },
    {
      "cell_type": "markdown",
      "metadata": {
        "id": "Won7cu4lkvHG",
        "colab_type": "text"
      },
      "source": [
        "### ngrok tonneling"
      ]
    },
    {
      "cell_type": "code",
      "metadata": {
        "id": "CMXNNayP9Ke7",
        "colab_type": "code",
        "outputId": "c539d87c-6d86-4db2-95c0-0a2509b3741e",
        "colab": {
          "base_uri": "https://localhost:8080/",
          "height": 550
        }
      },
      "source": [
        "get_ipython().system_raw('./ngrok http 8050 &')\n",
        "!curl -s http://localhost:4040/api/tunnels | python3 -c \\\n",
        "  \"import sys, json; print(json.load(sys.stdin)['tunnels'][0]['public_url'])\"\n",
        "\n",
        "!python app.py"
      ],
      "execution_count": 0,
      "outputs": [
        {
          "output_type": "stream",
          "text": [
            "https://24d12917.ngrok.io\n",
            "Running on http://127.0.0.1:8050/\n",
            "Debugger PIN: 809-230-123\n",
            " * Serving Flask app \"app\" (lazy loading)\n",
            " * Environment: production\n",
            "\u001b[31m   WARNING: This is a development server. Do not use it in a production deployment.\u001b[0m\n",
            "\u001b[2m   Use a production WSGI server instead.\u001b[0m\n",
            " * Debug mode: on\n",
            "Running on http://127.0.0.1:8050/\n",
            "Debugger PIN: 829-812-191\n"
          ],
          "name": "stdout"
        },
        {
          "output_type": "error",
          "ename": "KeyboardInterrupt",
          "evalue": "ignored",
          "traceback": [
            "\u001b[0;31m---------------------------------------------------------------------------\u001b[0m",
            "\u001b[0;31mKeyboardInterrupt\u001b[0m                         Traceback (most recent call last)",
            "\u001b[0;32m<ipython-input-9-410ae687ac94>\u001b[0m in \u001b[0;36m<module>\u001b[0;34m()\u001b[0m\n\u001b[1;32m      2\u001b[0m \u001b[0mget_ipython\u001b[0m\u001b[0;34m(\u001b[0m\u001b[0;34m)\u001b[0m\u001b[0;34m.\u001b[0m\u001b[0msystem\u001b[0m\u001b[0;34m(\u001b[0m\u001b[0;34m'curl -s http://localhost:4040/api/tunnels | python3 -c   \"import sys, json; print(json.load(sys.stdin)[\\'tunnels\\'][0][\\'public_url\\'])\"'\u001b[0m\u001b[0;34m)\u001b[0m\u001b[0;34m\u001b[0m\u001b[0;34m\u001b[0m\u001b[0m\n\u001b[1;32m      3\u001b[0m \u001b[0;34m\u001b[0m\u001b[0m\n\u001b[0;32m----> 4\u001b[0;31m \u001b[0mget_ipython\u001b[0m\u001b[0;34m(\u001b[0m\u001b[0;34m)\u001b[0m\u001b[0;34m.\u001b[0m\u001b[0msystem\u001b[0m\u001b[0;34m(\u001b[0m\u001b[0;34m'python app.py'\u001b[0m\u001b[0;34m)\u001b[0m\u001b[0;34m\u001b[0m\u001b[0;34m\u001b[0m\u001b[0m\n\u001b[0m",
            "\u001b[0;32m/usr/local/lib/python3.6/dist-packages/google/colab/_shell.py\u001b[0m in \u001b[0;36msystem\u001b[0;34m(self, *args, **kwargs)\u001b[0m\n\u001b[1;32m    100\u001b[0m       \u001b[0mkwargs\u001b[0m\u001b[0;34m.\u001b[0m\u001b[0mupdate\u001b[0m\u001b[0;34m(\u001b[0m\u001b[0;34m{\u001b[0m\u001b[0;34m'also_return_output'\u001b[0m\u001b[0;34m:\u001b[0m \u001b[0;32mTrue\u001b[0m\u001b[0;34m}\u001b[0m\u001b[0;34m)\u001b[0m\u001b[0;34m\u001b[0m\u001b[0;34m\u001b[0m\u001b[0m\n\u001b[1;32m    101\u001b[0m \u001b[0;34m\u001b[0m\u001b[0m\n\u001b[0;32m--> 102\u001b[0;31m     \u001b[0moutput\u001b[0m \u001b[0;34m=\u001b[0m \u001b[0m_system_commands\u001b[0m\u001b[0;34m.\u001b[0m\u001b[0m_system_compat\u001b[0m\u001b[0;34m(\u001b[0m\u001b[0mself\u001b[0m\u001b[0;34m,\u001b[0m \u001b[0;34m*\u001b[0m\u001b[0margs\u001b[0m\u001b[0;34m,\u001b[0m \u001b[0;34m**\u001b[0m\u001b[0mkwargs\u001b[0m\u001b[0;34m)\u001b[0m  \u001b[0;31m# pylint:disable=protected-access\u001b[0m\u001b[0;34m\u001b[0m\u001b[0;34m\u001b[0m\u001b[0m\n\u001b[0m\u001b[1;32m    103\u001b[0m \u001b[0;34m\u001b[0m\u001b[0m\n\u001b[1;32m    104\u001b[0m     \u001b[0;32mif\u001b[0m \u001b[0mpip_warn\u001b[0m\u001b[0;34m:\u001b[0m\u001b[0;34m\u001b[0m\u001b[0;34m\u001b[0m\u001b[0m\n",
            "\u001b[0;32m/usr/local/lib/python3.6/dist-packages/google/colab/_system_commands.py\u001b[0m in \u001b[0;36m_system_compat\u001b[0;34m(shell, cmd, also_return_output)\u001b[0m\n\u001b[1;32m    436\u001b[0m   \u001b[0;31m# stack.\u001b[0m\u001b[0;34m\u001b[0m\u001b[0;34m\u001b[0m\u001b[0;34m\u001b[0m\u001b[0m\n\u001b[1;32m    437\u001b[0m   result = _run_command(\n\u001b[0;32m--> 438\u001b[0;31m       shell.var_expand(cmd, depth=2), clear_streamed_output=False)\n\u001b[0m\u001b[1;32m    439\u001b[0m   \u001b[0mshell\u001b[0m\u001b[0;34m.\u001b[0m\u001b[0muser_ns\u001b[0m\u001b[0;34m[\u001b[0m\u001b[0;34m'_exit_code'\u001b[0m\u001b[0;34m]\u001b[0m \u001b[0;34m=\u001b[0m \u001b[0mresult\u001b[0m\u001b[0;34m.\u001b[0m\u001b[0mreturncode\u001b[0m\u001b[0;34m\u001b[0m\u001b[0;34m\u001b[0m\u001b[0m\n\u001b[1;32m    440\u001b[0m   \u001b[0;32mif\u001b[0m \u001b[0;34m-\u001b[0m\u001b[0mresult\u001b[0m\u001b[0;34m.\u001b[0m\u001b[0mreturncode\u001b[0m \u001b[0;32min\u001b[0m \u001b[0m_INTERRUPTED_SIGNALS\u001b[0m\u001b[0;34m:\u001b[0m\u001b[0;34m\u001b[0m\u001b[0;34m\u001b[0m\u001b[0m\n",
            "\u001b[0;32m/usr/local/lib/python3.6/dist-packages/google/colab/_system_commands.py\u001b[0m in \u001b[0;36m_run_command\u001b[0;34m(cmd, clear_streamed_output)\u001b[0m\n\u001b[1;32m    193\u001b[0m       \u001b[0mos\u001b[0m\u001b[0;34m.\u001b[0m\u001b[0mclose\u001b[0m\u001b[0;34m(\u001b[0m\u001b[0mchild_pty\u001b[0m\u001b[0;34m)\u001b[0m\u001b[0;34m\u001b[0m\u001b[0;34m\u001b[0m\u001b[0m\n\u001b[1;32m    194\u001b[0m \u001b[0;34m\u001b[0m\u001b[0m\n\u001b[0;32m--> 195\u001b[0;31m       \u001b[0;32mreturn\u001b[0m \u001b[0m_monitor_process\u001b[0m\u001b[0;34m(\u001b[0m\u001b[0mparent_pty\u001b[0m\u001b[0;34m,\u001b[0m \u001b[0mepoll\u001b[0m\u001b[0;34m,\u001b[0m \u001b[0mp\u001b[0m\u001b[0;34m,\u001b[0m \u001b[0mcmd\u001b[0m\u001b[0;34m,\u001b[0m \u001b[0mupdate_stdin_widget\u001b[0m\u001b[0;34m)\u001b[0m\u001b[0;34m\u001b[0m\u001b[0;34m\u001b[0m\u001b[0m\n\u001b[0m\u001b[1;32m    196\u001b[0m   \u001b[0;32mfinally\u001b[0m\u001b[0;34m:\u001b[0m\u001b[0;34m\u001b[0m\u001b[0;34m\u001b[0m\u001b[0m\n\u001b[1;32m    197\u001b[0m     \u001b[0mepoll\u001b[0m\u001b[0;34m.\u001b[0m\u001b[0mclose\u001b[0m\u001b[0;34m(\u001b[0m\u001b[0;34m)\u001b[0m\u001b[0;34m\u001b[0m\u001b[0;34m\u001b[0m\u001b[0m\n",
            "\u001b[0;32m/usr/lib/python3.6/contextlib.py\u001b[0m in \u001b[0;36m__exit__\u001b[0;34m(self, type, value, traceback)\u001b[0m\n\u001b[1;32m     86\u001b[0m         \u001b[0;32mif\u001b[0m \u001b[0mtype\u001b[0m \u001b[0;32mis\u001b[0m \u001b[0;32mNone\u001b[0m\u001b[0;34m:\u001b[0m\u001b[0;34m\u001b[0m\u001b[0;34m\u001b[0m\u001b[0m\n\u001b[1;32m     87\u001b[0m             \u001b[0;32mtry\u001b[0m\u001b[0;34m:\u001b[0m\u001b[0;34m\u001b[0m\u001b[0;34m\u001b[0m\u001b[0m\n\u001b[0;32m---> 88\u001b[0;31m                 \u001b[0mnext\u001b[0m\u001b[0;34m(\u001b[0m\u001b[0mself\u001b[0m\u001b[0;34m.\u001b[0m\u001b[0mgen\u001b[0m\u001b[0;34m)\u001b[0m\u001b[0;34m\u001b[0m\u001b[0;34m\u001b[0m\u001b[0m\n\u001b[0m\u001b[1;32m     89\u001b[0m             \u001b[0;32mexcept\u001b[0m \u001b[0mStopIteration\u001b[0m\u001b[0;34m:\u001b[0m\u001b[0;34m\u001b[0m\u001b[0;34m\u001b[0m\u001b[0m\n\u001b[1;32m     90\u001b[0m                 \u001b[0;32mreturn\u001b[0m \u001b[0;32mFalse\u001b[0m\u001b[0;34m\u001b[0m\u001b[0;34m\u001b[0m\u001b[0m\n",
            "\u001b[0;32m/usr/local/lib/python3.6/dist-packages/google/colab/_system_commands.py\u001b[0m in \u001b[0;36m_display_stdin_widget\u001b[0;34m(delay_millis)\u001b[0m\n\u001b[1;32m    353\u001b[0m \u001b[0;34m\u001b[0m\u001b[0m\n\u001b[1;32m    354\u001b[0m   \u001b[0mhide_args\u001b[0m \u001b[0;34m=\u001b[0m \u001b[0;34m[\u001b[0m\u001b[0;34m'cell_remove_stdin'\u001b[0m\u001b[0;34m,\u001b[0m \u001b[0;34m{\u001b[0m\u001b[0;34m}\u001b[0m\u001b[0;34m]\u001b[0m\u001b[0;34m\u001b[0m\u001b[0;34m\u001b[0m\u001b[0m\n\u001b[0;32m--> 355\u001b[0;31m   \u001b[0m_message\u001b[0m\u001b[0;34m.\u001b[0m\u001b[0mblocking_request\u001b[0m\u001b[0;34m(\u001b[0m\u001b[0;34m*\u001b[0m\u001b[0mhide_args\u001b[0m\u001b[0;34m,\u001b[0m \u001b[0mparent\u001b[0m\u001b[0;34m=\u001b[0m\u001b[0mshell\u001b[0m\u001b[0;34m.\u001b[0m\u001b[0mparent_header\u001b[0m\u001b[0;34m)\u001b[0m\u001b[0;34m\u001b[0m\u001b[0;34m\u001b[0m\u001b[0m\n\u001b[0m\u001b[1;32m    356\u001b[0m \u001b[0;34m\u001b[0m\u001b[0m\n\u001b[1;32m    357\u001b[0m \u001b[0;34m\u001b[0m\u001b[0m\n",
            "\u001b[0;32m/usr/local/lib/python3.6/dist-packages/google/colab/_message.py\u001b[0m in \u001b[0;36mblocking_request\u001b[0;34m(request_type, request, timeout_sec, parent)\u001b[0m\n\u001b[1;32m    169\u001b[0m   \u001b[0;31m# unique.\u001b[0m\u001b[0;34m\u001b[0m\u001b[0;34m\u001b[0m\u001b[0;34m\u001b[0m\u001b[0m\n\u001b[1;32m    170\u001b[0m   \u001b[0mrequest_id\u001b[0m \u001b[0;34m=\u001b[0m \u001b[0msend_request\u001b[0m\u001b[0;34m(\u001b[0m\u001b[0mrequest_type\u001b[0m\u001b[0;34m,\u001b[0m \u001b[0mrequest\u001b[0m\u001b[0;34m,\u001b[0m \u001b[0mparent\u001b[0m\u001b[0;34m=\u001b[0m\u001b[0mparent\u001b[0m\u001b[0;34m)\u001b[0m\u001b[0;34m\u001b[0m\u001b[0;34m\u001b[0m\u001b[0m\n\u001b[0;32m--> 171\u001b[0;31m   \u001b[0;32mreturn\u001b[0m \u001b[0mread_reply_from_input\u001b[0m\u001b[0;34m(\u001b[0m\u001b[0mrequest_id\u001b[0m\u001b[0;34m,\u001b[0m \u001b[0mtimeout_sec\u001b[0m\u001b[0;34m)\u001b[0m\u001b[0;34m\u001b[0m\u001b[0;34m\u001b[0m\u001b[0m\n\u001b[0m",
            "\u001b[0;32m/usr/local/lib/python3.6/dist-packages/google/colab/_message.py\u001b[0m in \u001b[0;36mread_reply_from_input\u001b[0;34m(message_id, timeout_sec)\u001b[0m\n\u001b[1;32m     99\u001b[0m     \u001b[0mreply\u001b[0m \u001b[0;34m=\u001b[0m \u001b[0m_read_next_input_message\u001b[0m\u001b[0;34m(\u001b[0m\u001b[0;34m)\u001b[0m\u001b[0;34m\u001b[0m\u001b[0;34m\u001b[0m\u001b[0m\n\u001b[1;32m    100\u001b[0m     \u001b[0;32mif\u001b[0m \u001b[0mreply\u001b[0m \u001b[0;34m==\u001b[0m \u001b[0m_NOT_READY\u001b[0m \u001b[0;32mor\u001b[0m \u001b[0;32mnot\u001b[0m \u001b[0misinstance\u001b[0m\u001b[0;34m(\u001b[0m\u001b[0mreply\u001b[0m\u001b[0;34m,\u001b[0m \u001b[0mdict\u001b[0m\u001b[0;34m)\u001b[0m\u001b[0;34m:\u001b[0m\u001b[0;34m\u001b[0m\u001b[0;34m\u001b[0m\u001b[0m\n\u001b[0;32m--> 101\u001b[0;31m       \u001b[0mtime\u001b[0m\u001b[0;34m.\u001b[0m\u001b[0msleep\u001b[0m\u001b[0;34m(\u001b[0m\u001b[0;36m0.025\u001b[0m\u001b[0;34m)\u001b[0m\u001b[0;34m\u001b[0m\u001b[0;34m\u001b[0m\u001b[0m\n\u001b[0m\u001b[1;32m    102\u001b[0m       \u001b[0;32mcontinue\u001b[0m\u001b[0;34m\u001b[0m\u001b[0;34m\u001b[0m\u001b[0m\n\u001b[1;32m    103\u001b[0m     if (reply.get('type') == 'colab_reply' and\n",
            "\u001b[0;31mKeyboardInterrupt\u001b[0m: "
          ]
        }
      ]
    },
    {
      "cell_type": "markdown",
      "metadata": {
        "id": "idmKjYB9uBvD",
        "colab_type": "text"
      },
      "source": [
        "# Run main()"
      ]
    },
    {
      "cell_type": "code",
      "metadata": {
        "id": "jpynilp4t56D",
        "colab_type": "code",
        "outputId": "936a1cae-22a7-48f3-a3f2-5fa11eac565e",
        "colab": {
          "base_uri": "https://localhost:8080/",
          "height": 125
        }
      },
      "source": [
        "#!/usr/bin/env python\n",
        "#-*- coding:utf-8 -*-\n",
        "\n",
        "def main():\n",
        "  import dldata\n",
        "  import time\n",
        "\n",
        "  dldata.down_load()\n",
        "  time.sleep(10)\n",
        "  \n",
        "  import app\n",
        "\n",
        "\n",
        "if __name__ == \"__main__\":\n",
        "  main()"
      ],
      "execution_count": 0,
      "outputs": [
        {
          "output_type": "stream",
          "text": [
            "/usr/local/lib/python3.6/dist-packages/japanize_matplotlib/japanize_matplotlib.py:15: MatplotlibDeprecationWarning: \n",
            "The createFontList function was deprecated in Matplotlib 3.2 and will be removed two minor releases later. Use FontManager.addfont instead.\n",
            "  font_list = font_manager.createFontList(font_files)\n",
            "/usr/local/lib/python3.6/dist-packages/IPython/core/interactiveshell.py:2882: DtypeWarning: Columns (1,2,3,4,5,6,7,8,9,10,11,12,13,14,15,16,17,18,19,20,21,23,24,25,31,32,33,34,35,36,39,42,43) have mixed types.Specify dtype option on import or set low_memory=False.\n",
            "  exec(code_obj, self.user_global_ns, self.user_ns)\n"
          ],
          "name": "stderr"
        }
      ]
    },
    {
      "cell_type": "markdown",
      "metadata": {
        "id": "tSRO_pcEKKl3",
        "colab_type": "text"
      },
      "source": [
        "# Test Program"
      ]
    },
    {
      "cell_type": "markdown",
      "metadata": {
        "id": "ByBnUvzgLL9i",
        "colab_type": "text"
      },
      "source": [
        "### test"
      ]
    },
    {
      "cell_type": "code",
      "metadata": {
        "id": "P5kz6IUA_erO",
        "colab_type": "code",
        "outputId": "fce4ad52-cc47-4a04-c2d8-4eb5d1fa5231",
        "colab": {
          "base_uri": "https://localhost:8080/",
          "height": 34
        }
      },
      "source": [
        "import dash\n",
        "import dash_core_components as dcc\n",
        "import dash_html_components as html\n",
        "print(dcc.__version__)"
      ],
      "execution_count": 0,
      "outputs": [
        {
          "output_type": "stream",
          "text": [
            "1.9.0\n"
          ],
          "name": "stdout"
        }
      ]
    },
    {
      "cell_type": "markdown",
      "metadata": {
        "id": "f1u97R7HBflh",
        "colab_type": "text"
      },
      "source": [
        "#### pip freeze"
      ]
    },
    {
      "cell_type": "code",
      "metadata": {
        "id": "F6-6VjhdBSWe",
        "colab_type": "code",
        "colab": {}
      },
      "source": [
        "!pip freeze\n",
        "\n"
      ],
      "execution_count": 0,
      "outputs": []
    },
    {
      "cell_type": "markdown",
      "metadata": {
        "id": "xxFOwuNzBi7h",
        "colab_type": "text"
      },
      "source": [
        "#### test program"
      ]
    },
    {
      "cell_type": "code",
      "metadata": {
        "id": "cYuVOyj6KNZG",
        "colab_type": "code",
        "outputId": "1df6cc21-ba8e-4bd5-aafe-6e3bd858f8d3",
        "colab": {
          "base_uri": "https://localhost:8080/",
          "height": 309
        }
      },
      "source": [
        "import os\n",
        "import datetime\n",
        "\n",
        "import numpy as np\n",
        "import pandas as pd\n",
        "\n",
        "DIRCSV = 'static/csv/'\n",
        "CSV_FILES = ('covid19_ww_confirmed_global.csv',\n",
        "            'covid19_ww_deaths_global.csv',\n",
        "            'covid19_ww_recovered_global.csv',\n",
        "            'covid19_jp_all.csv')\n",
        "\n",
        "df0 = pd.read_csv(DIRCSV + CSV_FILES[0])\n",
        "df1 = pd.read_csv(DIRCSV + CSV_FILES[1])\n",
        "df2 = pd.read_csv(DIRCSV + CSV_FILES[2])\n",
        "df3 = pd.read_csv(DIRCSV + CSV_FILES[3])\n",
        "\n",
        "df0_date = df0.columns.values.tolist()\n",
        "df0_date = df0_date[1:]\n",
        "df0_countries = df0.iloc[:, 0].values.tolist()\n",
        "df0 = df0.set_index('Country/Region')\n",
        "\n",
        "df1_date = df1.columns.values.tolist()\n",
        "df1_date = df1_date[1:]\n",
        "df1_countries = df1.iloc[:, 0].values.tolist()\n",
        "df1 = df1.set_index('Country/Region')\n",
        "\n",
        "df2_date = df2.columns.values.tolist()\n",
        "df2_date = df2_date[1:]\n",
        "df2_countries = df2.iloc[:, 0].values.tolist()\n",
        "df2 = df2.set_index('Country/Region')\n",
        "\n"
      ],
      "execution_count": 0,
      "outputs": [
        {
          "output_type": "stream",
          "text": [
            "['2020-01-22', '2020-01-23', '2020-01-24', '2020-01-25', '2020-01-26', '2020-01-27', '2020-01-28', '2020-01-29', '2020-01-30', '2020-01-31', '2020-02-01', '2020-02-02', '2020-02-03', '2020-02-04', '2020-02-05', '2020-02-06', '2020-02-07', '2020-02-08', '2020-02-09', '2020-02-10', '2020-02-11', '2020-02-12', '2020-02-13', '2020-02-14', '2020-02-15', '2020-02-16', '2020-02-17', '2020-02-18', '2020-02-19', '2020-02-20', '2020-02-21', '2020-02-22', '2020-02-23', '2020-02-24', '2020-02-25', '2020-02-26', '2020-02-27', '2020-02-28', '2020-02-29', '2020-03-01', '2020-03-02', '2020-03-03', '2020-03-04', '2020-03-05', '2020-03-06', '2020-03-07', '2020-03-08', '2020-03-09', '2020-03-10', '2020-03-11', '2020-03-12', '2020-03-13', '2020-03-14', '2020-03-15', '2020-03-16', '2020-03-17', '2020-03-18', '2020-03-19', '2020-03-20', '2020-03-21', '2020-03-22', '2020-03-23', '2020-03-24', '2020-03-25', '2020-03-26', '2020-03-27', '2020-03-28', '2020-03-29', '2020-03-30', '2020-03-31', '2020-04-01', '2020-04-02', '2020-04-03', '2020-04-04', '2020-04-05', '2020-04-06', '2020-04-07', '2020-04-08', '2020-04-09', '2020-04-10', '2020-04-11', '2020-04-12', '2020-04-13', '2020-04-14', '2020-04-15', '2020-04-16', '2020-04-17', '2020-04-18', '2020-04-19', '2020-04-20', '2020-04-21', '2020-04-22', '2020-04-23', '2020-04-24', '2020-04-25', '2020-04-26', '2020-04-27', '2020-04-28', '2020-04-29', '2020-04-30', '2020-05-01']\n",
            "['Afghanistan', 'Albania', 'Algeria', 'Andorra', 'Angola', 'Antigua and Barbuda', 'Argentina', 'Armenia', 'Australia', 'Austria', 'Azerbaijan', 'Bahamas', 'Bahrain', 'Bangladesh', 'Barbados', 'Belarus', 'Belgium', 'Belize', 'Benin', 'Bhutan', 'Bolivia', 'Bosnia and Herzegovina', 'Botswana', 'Brazil', 'Brunei', 'Bulgaria', 'Burkina Faso', 'Burma', 'Burundi', 'Cabo Verde', 'Cambodia', 'Cameroon', 'Canada', 'Central African Republic', 'Chad', 'Chile', 'China', 'Colombia', 'Comoros', 'Congo (Brazzaville)', 'Congo (Kinshasa)', 'Costa Rica', \"Cote d'Ivoire\", 'Croatia', 'Cuba', 'Cyprus', 'Czechia', 'Denmark', 'Diamond Princess', 'Djibouti', 'Dominica', 'Dominican Republic', 'Ecuador', 'Egypt', 'El Salvador', 'Equatorial Guinea', 'Eritrea', 'Estonia', 'Eswatini', 'Ethiopia', 'Fiji', 'Finland', 'France', 'Gabon', 'Gambia', 'Georgia', 'Germany', 'Ghana', 'Greece', 'Grenada', 'Guatemala', 'Guinea', 'Guinea-Bissau', 'Guyana', 'Haiti', 'Holy See', 'Honduras', 'Hungary', 'Iceland', 'India', 'Indonesia', 'Iran', 'Iraq', 'Ireland', 'Israel', 'Italy', 'Jamaica', 'Japan', 'Jordan', 'Kazakhstan', 'Kenya', 'Korea, South', 'Kosovo', 'Kuwait', 'Kyrgyzstan', 'Laos', 'Latvia', 'Lebanon', 'Liberia', 'Libya', 'Liechtenstein', 'Lithuania', 'Luxembourg', 'MS Zaandam', 'Madagascar', 'Malawi', 'Malaysia', 'Maldives', 'Mali', 'Malta', 'Mauritania', 'Mauritius', 'Mexico', 'Moldova', 'Monaco', 'Mongolia', 'Montenegro', 'Morocco', 'Mozambique', 'Namibia', 'Nepal', 'Netherlands', 'New Zealand', 'Nicaragua', 'Niger', 'Nigeria', 'North Macedonia', 'Norway', 'Oman', 'Pakistan', 'Panama', 'Papua New Guinea', 'Paraguay', 'Peru', 'Philippines', 'Poland', 'Portugal', 'Qatar', 'Romania', 'Russia', 'Rwanda', 'Saint Kitts and Nevis', 'Saint Lucia', 'Saint Vincent and the Grenadines', 'San Marino', 'Sao Tome and Principe', 'Saudi Arabia', 'Senegal', 'Serbia', 'Seychelles', 'Sierra Leone', 'Singapore', 'Slovakia', 'Slovenia', 'Somalia', 'South Africa', 'South Sudan', 'Spain', 'Sri Lanka', 'Sudan', 'Suriname', 'Sweden', 'Switzerland', 'Syria', 'Taiwan*', 'Tajikistan', 'Tanzania', 'Thailand', 'Timor-Leste', 'Togo', 'Trinidad and Tobago', 'Tunisia', 'Turkey', 'US', 'Uganda', 'Ukraine', 'United Arab Emirates', 'United Kingdom', 'Uruguay', 'Uzbekistan', 'Venezuela', 'Vietnam', 'West Bank and Gaza', 'Western Sahara', 'Yemen', 'Zambia', 'Zimbabwe']\n",
            "       Unnamed: 0      No. Prefecture  ... Sex     Status Number\n",
            "0               0      1.0       神奈川県  ...  男性  recovered    1.0\n",
            "1               1      2.0        東京都  ...  男性  recovered    1.0\n",
            "2               2      3.0        東京都  ...  女性  recovered    1.0\n",
            "3               3      4.0        愛知県  ...  男性  confirmed    1.0\n",
            "4               4      5.0        愛知県  ...  男性  confirmed    1.0\n",
            "...           ...      ...        ...  ...  ..        ...    ...\n",
            "14421       14421  14422.0        東京都  ...  不明  confirmed    1.0\n",
            "14422       14422  14423.0        東京都  ...  不明  confirmed    1.0\n",
            "14423       14423  14424.0        東京都  ...  不明  confirmed    1.0\n",
            "14424       14424  14425.0        東京都  ...  不明  confirmed    1.0\n",
            "14425       14425  14426.0        東京都  ...  不明  confirmed    1.0\n",
            "\n",
            "[14426 rows x 9 columns]\n"
          ],
          "name": "stdout"
        }
      ]
    },
    {
      "cell_type": "markdown",
      "metadata": {
        "id": "c6yj-giPBWMt",
        "colab_type": "text"
      },
      "source": [
        "#### グラフ作成をマインプログラムから移動"
      ]
    },
    {
      "cell_type": "code",
      "metadata": {
        "id": "No_6e1ko_wCZ",
        "colab_type": "code",
        "colab": {}
      },
      "source": [
        "  ##グラフ作成をマインプログラムから移動\n",
        "  \n",
        "  \"\"\"\n",
        "  ## Total amount of confirmed, recovered, death in Japan\n",
        "  dfs = df.groupby('Status')\n",
        "  number = dfs['Number'].sum()\n",
        "  confirmed_total = number.loc[\"confirmed\"]\n",
        "  recovered_total = number.loc[\"recovered\"]\n",
        "  death_total = number.loc[\"death\"]\n",
        "  confirmed_total = confirmed_total + recovered_total + death_total\n",
        "  #print(confirmed_total, death_total, recovered_total)\n",
        "\n",
        "  ## Plot deily number of recovered, death in Japan\n",
        "  dfds = df.groupby(['Date', 'Status']).count()['Number'].unstack()\n",
        "  dfds = dfds.replace(np.nan, 0)\n",
        "  dfds = dfds.sort_index()\n",
        "  dfdsd = dfds.drop(\"confirmed\", axis=1)\n",
        "\n",
        "  labels = dfdsd.index.to_list()\n",
        "  height1 = dfdsd['recovered']\n",
        "  height2 = dfdsd['death']\n",
        "  left = np.arange(len(height1)) \n",
        "  width = 0.3\n",
        "  title=\"日毎退院者数（青）死亡者数（赤）\"\n",
        "  figure(num=None, figsize=(15, 6))\n",
        "  plt.bar(left, height1, color='b', width=width, align='center')\n",
        "  plt.bar(left+width, height2, color='r', width=width, align='center')\n",
        "  plt.xticks(left+width/2, labels)\n",
        "  plt.xticks(left[::7], labels[::7], rotation=90, size='small')\n",
        "  plt.title(title)\n",
        "  plt.savefig('static/img/COVID19_jp_daily_death.jpg')\n",
        "  plt.show()\n",
        "\n",
        "  ## Reshape daily amount of confirmed, recovered, death in Japan\n",
        "  amount_confirmed = 0\n",
        "  amount_recovered = 0\n",
        "  amount_death = 0\n",
        "  am_con = []\n",
        "  am_rec = []\n",
        "  am_det = []\n",
        "  for index, row in dfds.iterrows():\n",
        "    number_of_day_confirmed = row[0] #dfds.at[index, 'confirmed']\n",
        "    number_of_day_recovered = row[2] #dfds.at[index, 'recovered']\n",
        "    number_of_day_death = row[1] #dfds.at[index, 'death']\n",
        "    amount_confirmed = amount_confirmed + number_of_day_confirmed\n",
        "    amount_recovered = amount_recovered + number_of_day_recovered\n",
        "    amount_death = amount_death + number_of_day_death\n",
        "    am_con.append(amount_confirmed)\n",
        "    am_rec.append(amount_recovered)\n",
        "    am_det.append(amount_death)\n",
        "  dfds[\"Amount_confirmed\"] = am_con\n",
        "  dfds[\"Amount_recovered\"] = am_rec\n",
        "  dfds[\"Amount_death\"] = am_det\n",
        "  dfdsd = dfds.drop([\"confirmed\", \"recovered\", \"death\"], axis=1)\n",
        "\n",
        "  ## Plot daily amount of confirmed, recovered, death in Japan\n",
        "  fig, ax = plt.subplots(figsize=(15,7))\n",
        "  dfdsd.plot(ax=ax)\n",
        "  title=\"全国陽性者増加数\"\n",
        "  plt.title(title)\n",
        "  plt.savefig('static/img/COVID19_jp_total_confirmed.jpg')\n",
        "  plt.show()\n",
        "  dfdsdd = dfdsd.drop([\"Amount_confirmed\", \"Amount_recovered\"], axis=1)\n",
        "  fig, ax = plt.subplots(figsize=(15,7))\n",
        "  dfdsdd.plot(ax=ax)\n",
        "  title=\"全国死者増加数\"\n",
        "  plt.title(title)\n",
        "  plt.savefig('static/img/COVID19_jp_total_death.jpg')\n",
        "  plt.show()\n",
        "  dfdsdr = dfdsd.drop([\"Amount_confirmed\", \"Amount_death\"], axis=1)\n",
        "  fig, ax = plt.subplots(figsize=(15,7))\n",
        "  dfdsdr.plot(ax=ax)\n",
        "  title=\"全国退院者増加数\"\n",
        "  plt.title(title)\n",
        "  plt.savefig('static/img/COVID19_jp_total_recovered.jpg')\n",
        "  plt.show()\n",
        "\n",
        "  ## Amount of each prefecture\n",
        "  dfp = df.groupby('Prefecture')\n",
        "  number_list = dfp['Number'].sum()\n",
        "  dfp = number_list.sort_values(ascending=False)\n",
        "\n",
        "  ## Plot amount of each prefecture\n",
        "  title = \"都道府県別感染者総数\"\n",
        "  start = 0\n",
        "  limit = 47\n",
        "  list = dfp.index\n",
        "  list = list.values.tolist()\n",
        "  left_base = [num for num in range(len(list))]\n",
        "  height_base = dfp.values.tolist()\n",
        "  left = left_base[start:limit]\n",
        "  height = height_base[start:limit]\n",
        "  label = list[start:limit]\n",
        "  figure(num=None, figsize=(15, 6))\n",
        "  plt.bar(left, height, tick_label = label)\n",
        "  plt.xticks(left[::1], label[::1], rotation=80, size='large')\n",
        "  plt.title(title)\n",
        "  plt.savefig('static/img/COVID19_jpref_total_confirmed0020.jpg')\n",
        "  plt.show()\n",
        "  start = 20\n",
        "  limit = 40\n",
        "  left = left_base[start:limit]\n",
        "  height = height_base[start:limit]\n",
        "  label = list[start:limit]\n",
        "  figure(num=None, figsize=(15, 6))\n",
        "  plt.bar(left, height, tick_label = label)\n",
        "  plt.xticks(left[::1], label[::1], rotation=80, size='large')\n",
        "  plt.title(title)\n",
        "  plt.savefig('static/img/COVID19_jpref_total_confirmed2040.jpg')\n",
        "  plt.show()\n",
        "  start = 40\n",
        "  limit = 49\n",
        "  left = left_base[start:limit]\n",
        "  height = height_base[start:limit]\n",
        "  label = list[start:limit]\n",
        "  figure(num=None, figsize=(15, 6))\n",
        "  plt.bar(left, height, tick_label = label)\n",
        "  plt.xticks(left[::1], label[::1], rotation=80, size='large')\n",
        "  plt.title(title)\n",
        "  plt.savefig('static/img/COVID19_jpref_total_confirmed4047.jpg')\n",
        "  plt.show()\n",
        "\n",
        "  dfpd = df.groupby(['Date', 'Prefecture'])\n",
        "  number = dfpd['Number'].sum()\n",
        "  number = number.unstack()\n",
        "  number = number[list]\n",
        "  number = number.replace(np.nan, 0)\n",
        "  ###\n",
        "  col_range = list[:]\n",
        "  graph_number = number[col_range]\n",
        "  title = \"都道府県別日毎COVID19陽性発生件数\"\n",
        "  fig, ax = plt.subplots(figsize=(15,7))\n",
        "  graph_number.plot(ax=ax, title=title)\n",
        "  plt.savefig('static/img/COVID19_jpref_dailyall.jpg')\n",
        "  plt.show()\n",
        "  ###\n",
        "  col_range = list[0:5]\n",
        "  graph_number = number[col_range]\n",
        "  title = \"都道府県別日毎COVID19陽性発生件数\"\n",
        "  fig, ax = plt.subplots(figsize=(15,7))\n",
        "  graph_number.plot(ax=ax, title=title)\n",
        "  plt.savefig('static/img/COVID19_jpref_daily0005.jpg')\n",
        "  plt.show()\n",
        "  col_range = list[5:10]\n",
        "  graph_number = number[col_range]\n",
        "  title = \"都道府県別日毎COVID19陽性発生件数\"\n",
        "  fig, ax = plt.subplots(figsize=(15,7))\n",
        "  graph_number.plot(ax=ax, title=title)\n",
        "  plt.savefig('static/img/COVID19_jpref_daily0510.jpg')\n",
        "  plt.show()\n",
        "\n",
        "  dfn = df.groupby('Date')\n",
        "  number = dfn['Number'].sum()\n",
        "  title = \"全国日毎COVID19陽性発生件数\"\n",
        "  fig, ax = plt.subplots(figsize=(15,7))\n",
        "  number.plot(ax=ax, title=title)\n",
        "  plt.savefig('static/img/COVID19_jp_daily_confirmed.jpg')\n",
        "  plt.show()\n",
        "  \"\"\""
      ],
      "execution_count": 0,
      "outputs": []
    },
    {
      "cell_type": "markdown",
      "metadata": {
        "id": "xWNHkitbBtBK",
        "colab_type": "text"
      },
      "source": [
        "#### test program2"
      ]
    },
    {
      "cell_type": "code",
      "metadata": {
        "id": "nY97TxeR2TF1",
        "colab_type": "code",
        "outputId": "c45aed73-7405-49f4-e2e3-58300ebc485c",
        "colab": {
          "base_uri": "https://localhost:8080/",
          "height": 354
        }
      },
      "source": [
        "# -*- coding: utf-8 -*-\n",
        "import os\n",
        "import datetime\n",
        "import dash\n",
        "import dash_core_components as dcc\n",
        "import dash_html_components as html\n",
        "from dash.dependencies import Input, Output\n",
        "import numpy as np\n",
        "import pandas as pd\n",
        "\n",
        "DIRCSV = 'static/csv/'\n",
        "CSV_FILES = ('covid19_ww_confirmed_global.csv',\n",
        "            'covid19_ww_deaths_global.csv',\n",
        "            'covid19_ww_recovered_global.csv',\n",
        "            'covid19_jp_prf_cfm.csv',\n",
        "            'covid19_jp_prf_dth.csv',\n",
        "            'covid19_jp_prf_rcv.csv',\n",
        "            'covid19_jp_prf_male.csv',\n",
        "            'covid19_jp_prf_female.csv',\n",
        "            'covid19_jp_prf_gen.csv')\n",
        "\n",
        "df0 = pd.read_csv(DIRCSV + CSV_FILES[0])\n",
        "df1 = pd.read_csv(DIRCSV + CSV_FILES[1])\n",
        "df2 = pd.read_csv(DIRCSV + CSV_FILES[2])\n",
        "df3 = pd.read_csv(DIRCSV + CSV_FILES[3])\n",
        "df4 = pd.read_csv(DIRCSV + CSV_FILES[4])\n",
        "df5 = pd.read_csv(DIRCSV + CSV_FILES[5])\n",
        "df6 = pd.read_csv(DIRCSV + CSV_FILES[6])\n",
        "df7 = pd.read_csv(DIRCSV + CSV_FILES[7])\n",
        "df8 = pd.read_csv(DIRCSV + CSV_FILES[8])\n",
        "\n",
        "df0 = df0.set_index('Country/Region')\n",
        "df0.loc['Worldwide'] = df0.sum()\n",
        "df0_x = df0.columns.tolist()\n",
        "df0_y = df0.loc['Worldwide', ].tolist()\n",
        "df0_z = df00.index.tolist()\n",
        "dict0 = []\n",
        "for x in df0_z:\n",
        "  dict0.append({'lavel': x, 'value': x})\n",
        "print(df0)\n",
        "print(df0_x)\n",
        "print(df0_y)\n",
        "print(dict0)"
      ],
      "execution_count": 0,
      "outputs": [
        {
          "output_type": "stream",
          "text": [
            "                2020-01-22  2020-01-23  ...  2020-05-05  2020-05-06\n",
            "Country/Region                          ...                        \n",
            "Afghanistan              0           0  ...        3224        3392\n",
            "Albania                  0           0  ...         820         832\n",
            "Algeria                  0           0  ...        4838        4997\n",
            "Andorra                  0           0  ...         751         751\n",
            "Angola                   0           0  ...          36          36\n",
            "...                    ...         ...  ...         ...         ...\n",
            "Western Sahara           0           0  ...           6           6\n",
            "Yemen                    0           0  ...          22          25\n",
            "Zambia                   0           0  ...         138         146\n",
            "Zimbabwe                 0           0  ...          34          34\n",
            "Worldwide              555         654  ...     3662691     3755341\n",
            "\n",
            "[188 rows x 106 columns]\n",
            "['2020-01-22', '2020-01-23', '2020-01-24', '2020-01-25', '2020-01-26', '2020-01-27', '2020-01-28', '2020-01-29', '2020-01-30', '2020-01-31', '2020-02-01', '2020-02-02', '2020-02-03', '2020-02-04', '2020-02-05', '2020-02-06', '2020-02-07', '2020-02-08', '2020-02-09', '2020-02-10', '2020-02-11', '2020-02-12', '2020-02-13', '2020-02-14', '2020-02-15', '2020-02-16', '2020-02-17', '2020-02-18', '2020-02-19', '2020-02-20', '2020-02-21', '2020-02-22', '2020-02-23', '2020-02-24', '2020-02-25', '2020-02-26', '2020-02-27', '2020-02-28', '2020-02-29', '2020-03-01', '2020-03-02', '2020-03-03', '2020-03-04', '2020-03-05', '2020-03-06', '2020-03-07', '2020-03-08', '2020-03-09', '2020-03-10', '2020-03-11', '2020-03-12', '2020-03-13', '2020-03-14', '2020-03-15', '2020-03-16', '2020-03-17', '2020-03-18', '2020-03-19', '2020-03-20', '2020-03-21', '2020-03-22', '2020-03-23', '2020-03-24', '2020-03-25', '2020-03-26', '2020-03-27', '2020-03-28', '2020-03-29', '2020-03-30', '2020-03-31', '2020-04-01', '2020-04-02', '2020-04-03', '2020-04-04', '2020-04-05', '2020-04-06', '2020-04-07', '2020-04-08', '2020-04-09', '2020-04-10', '2020-04-11', '2020-04-12', '2020-04-13', '2020-04-14', '2020-04-15', '2020-04-16', '2020-04-17', '2020-04-18', '2020-04-19', '2020-04-20', '2020-04-21', '2020-04-22', '2020-04-23', '2020-04-24', '2020-04-25', '2020-04-26', '2020-04-27', '2020-04-28', '2020-04-29', '2020-04-30', '2020-05-01', '2020-05-02', '2020-05-03', '2020-05-04', '2020-05-05', '2020-05-06']\n",
            "[555, 654, 941, 1434, 2118, 2927, 5578, 6166, 8234, 9927, 12038, 16787, 19881, 23892, 27635, 30794, 34391, 37120, 40150, 42762, 44802, 45221, 60368, 66885, 69030, 71224, 73258, 75136, 75639, 76197, 76819, 78572, 78958, 79561, 80406, 81388, 82746, 84112, 86011, 88369, 90306, 92840, 95120, 97886, 101801, 105847, 109821, 113590, 118620, 125875, 128352, 145219, 156116, 167466, 181603, 197113, 214846, 242616, 272247, 304555, 337018, 378282, 418079, 467723, 529701, 593423, 660824, 720285, 782490, 857608, 932638, 1013458, 1095876, 1176059, 1249737, 1321427, 1396438, 1480200, 1565538, 1657929, 1736025, 1835145, 1905157, 1975557, 2055423, 2151792, 2239628, 2317234, 2400776, 2471727, 2549038, 2624602, 2708403, 2795731, 2881140, 2955033, 3023722, 3097229, 3172287, 3256910, 3343777, 3427584, 3506729, 3583055, 3662691, 3755341]\n",
            "[{'lavel': 'Afghanistan', 'value': 'Afghanistan'}, {'lavel': 'Albania', 'value': 'Albania'}, {'lavel': 'Algeria', 'value': 'Algeria'}, {'lavel': 'Andorra', 'value': 'Andorra'}, {'lavel': 'Angola', 'value': 'Angola'}, {'lavel': 'Antigua and Barbuda', 'value': 'Antigua and Barbuda'}, {'lavel': 'Argentina', 'value': 'Argentina'}, {'lavel': 'Armenia', 'value': 'Armenia'}, {'lavel': 'Australia', 'value': 'Australia'}, {'lavel': 'Austria', 'value': 'Austria'}, {'lavel': 'Azerbaijan', 'value': 'Azerbaijan'}, {'lavel': 'Bahamas', 'value': 'Bahamas'}, {'lavel': 'Bahrain', 'value': 'Bahrain'}, {'lavel': 'Bangladesh', 'value': 'Bangladesh'}, {'lavel': 'Barbados', 'value': 'Barbados'}, {'lavel': 'Belarus', 'value': 'Belarus'}, {'lavel': 'Belgium', 'value': 'Belgium'}, {'lavel': 'Belize', 'value': 'Belize'}, {'lavel': 'Benin', 'value': 'Benin'}, {'lavel': 'Bhutan', 'value': 'Bhutan'}, {'lavel': 'Bolivia', 'value': 'Bolivia'}, {'lavel': 'Bosnia and Herzegovina', 'value': 'Bosnia and Herzegovina'}, {'lavel': 'Botswana', 'value': 'Botswana'}, {'lavel': 'Brazil', 'value': 'Brazil'}, {'lavel': 'Brunei', 'value': 'Brunei'}, {'lavel': 'Bulgaria', 'value': 'Bulgaria'}, {'lavel': 'Burkina Faso', 'value': 'Burkina Faso'}, {'lavel': 'Burma', 'value': 'Burma'}, {'lavel': 'Burundi', 'value': 'Burundi'}, {'lavel': 'Cabo Verde', 'value': 'Cabo Verde'}, {'lavel': 'Cambodia', 'value': 'Cambodia'}, {'lavel': 'Cameroon', 'value': 'Cameroon'}, {'lavel': 'Canada', 'value': 'Canada'}, {'lavel': 'Central African Republic', 'value': 'Central African Republic'}, {'lavel': 'Chad', 'value': 'Chad'}, {'lavel': 'Chile', 'value': 'Chile'}, {'lavel': 'China', 'value': 'China'}, {'lavel': 'Colombia', 'value': 'Colombia'}, {'lavel': 'Comoros', 'value': 'Comoros'}, {'lavel': 'Congo (Brazzaville)', 'value': 'Congo (Brazzaville)'}, {'lavel': 'Congo (Kinshasa)', 'value': 'Congo (Kinshasa)'}, {'lavel': 'Costa Rica', 'value': 'Costa Rica'}, {'lavel': \"Cote d'Ivoire\", 'value': \"Cote d'Ivoire\"}, {'lavel': 'Croatia', 'value': 'Croatia'}, {'lavel': 'Cuba', 'value': 'Cuba'}, {'lavel': 'Cyprus', 'value': 'Cyprus'}, {'lavel': 'Czechia', 'value': 'Czechia'}, {'lavel': 'Denmark', 'value': 'Denmark'}, {'lavel': 'Diamond Princess', 'value': 'Diamond Princess'}, {'lavel': 'Djibouti', 'value': 'Djibouti'}, {'lavel': 'Dominica', 'value': 'Dominica'}, {'lavel': 'Dominican Republic', 'value': 'Dominican Republic'}, {'lavel': 'Ecuador', 'value': 'Ecuador'}, {'lavel': 'Egypt', 'value': 'Egypt'}, {'lavel': 'El Salvador', 'value': 'El Salvador'}, {'lavel': 'Equatorial Guinea', 'value': 'Equatorial Guinea'}, {'lavel': 'Eritrea', 'value': 'Eritrea'}, {'lavel': 'Estonia', 'value': 'Estonia'}, {'lavel': 'Eswatini', 'value': 'Eswatini'}, {'lavel': 'Ethiopia', 'value': 'Ethiopia'}, {'lavel': 'Fiji', 'value': 'Fiji'}, {'lavel': 'Finland', 'value': 'Finland'}, {'lavel': 'France', 'value': 'France'}, {'lavel': 'Gabon', 'value': 'Gabon'}, {'lavel': 'Gambia', 'value': 'Gambia'}, {'lavel': 'Georgia', 'value': 'Georgia'}, {'lavel': 'Germany', 'value': 'Germany'}, {'lavel': 'Ghana', 'value': 'Ghana'}, {'lavel': 'Greece', 'value': 'Greece'}, {'lavel': 'Grenada', 'value': 'Grenada'}, {'lavel': 'Guatemala', 'value': 'Guatemala'}, {'lavel': 'Guinea', 'value': 'Guinea'}, {'lavel': 'Guinea-Bissau', 'value': 'Guinea-Bissau'}, {'lavel': 'Guyana', 'value': 'Guyana'}, {'lavel': 'Haiti', 'value': 'Haiti'}, {'lavel': 'Holy See', 'value': 'Holy See'}, {'lavel': 'Honduras', 'value': 'Honduras'}, {'lavel': 'Hungary', 'value': 'Hungary'}, {'lavel': 'Iceland', 'value': 'Iceland'}, {'lavel': 'India', 'value': 'India'}, {'lavel': 'Indonesia', 'value': 'Indonesia'}, {'lavel': 'Iran', 'value': 'Iran'}, {'lavel': 'Iraq', 'value': 'Iraq'}, {'lavel': 'Ireland', 'value': 'Ireland'}, {'lavel': 'Israel', 'value': 'Israel'}, {'lavel': 'Italy', 'value': 'Italy'}, {'lavel': 'Jamaica', 'value': 'Jamaica'}, {'lavel': 'Japan', 'value': 'Japan'}, {'lavel': 'Jordan', 'value': 'Jordan'}, {'lavel': 'Kazakhstan', 'value': 'Kazakhstan'}, {'lavel': 'Kenya', 'value': 'Kenya'}, {'lavel': 'Korea, South', 'value': 'Korea, South'}, {'lavel': 'Kosovo', 'value': 'Kosovo'}, {'lavel': 'Kuwait', 'value': 'Kuwait'}, {'lavel': 'Kyrgyzstan', 'value': 'Kyrgyzstan'}, {'lavel': 'Laos', 'value': 'Laos'}, {'lavel': 'Latvia', 'value': 'Latvia'}, {'lavel': 'Lebanon', 'value': 'Lebanon'}, {'lavel': 'Liberia', 'value': 'Liberia'}, {'lavel': 'Libya', 'value': 'Libya'}, {'lavel': 'Liechtenstein', 'value': 'Liechtenstein'}, {'lavel': 'Lithuania', 'value': 'Lithuania'}, {'lavel': 'Luxembourg', 'value': 'Luxembourg'}, {'lavel': 'MS Zaandam', 'value': 'MS Zaandam'}, {'lavel': 'Madagascar', 'value': 'Madagascar'}, {'lavel': 'Malawi', 'value': 'Malawi'}, {'lavel': 'Malaysia', 'value': 'Malaysia'}, {'lavel': 'Maldives', 'value': 'Maldives'}, {'lavel': 'Mali', 'value': 'Mali'}, {'lavel': 'Malta', 'value': 'Malta'}, {'lavel': 'Mauritania', 'value': 'Mauritania'}, {'lavel': 'Mauritius', 'value': 'Mauritius'}, {'lavel': 'Mexico', 'value': 'Mexico'}, {'lavel': 'Moldova', 'value': 'Moldova'}, {'lavel': 'Monaco', 'value': 'Monaco'}, {'lavel': 'Mongolia', 'value': 'Mongolia'}, {'lavel': 'Montenegro', 'value': 'Montenegro'}, {'lavel': 'Morocco', 'value': 'Morocco'}, {'lavel': 'Mozambique', 'value': 'Mozambique'}, {'lavel': 'Namibia', 'value': 'Namibia'}, {'lavel': 'Nepal', 'value': 'Nepal'}, {'lavel': 'Netherlands', 'value': 'Netherlands'}, {'lavel': 'New Zealand', 'value': 'New Zealand'}, {'lavel': 'Nicaragua', 'value': 'Nicaragua'}, {'lavel': 'Niger', 'value': 'Niger'}, {'lavel': 'Nigeria', 'value': 'Nigeria'}, {'lavel': 'North Macedonia', 'value': 'North Macedonia'}, {'lavel': 'Norway', 'value': 'Norway'}, {'lavel': 'Oman', 'value': 'Oman'}, {'lavel': 'Pakistan', 'value': 'Pakistan'}, {'lavel': 'Panama', 'value': 'Panama'}, {'lavel': 'Papua New Guinea', 'value': 'Papua New Guinea'}, {'lavel': 'Paraguay', 'value': 'Paraguay'}, {'lavel': 'Peru', 'value': 'Peru'}, {'lavel': 'Philippines', 'value': 'Philippines'}, {'lavel': 'Poland', 'value': 'Poland'}, {'lavel': 'Portugal', 'value': 'Portugal'}, {'lavel': 'Qatar', 'value': 'Qatar'}, {'lavel': 'Romania', 'value': 'Romania'}, {'lavel': 'Russia', 'value': 'Russia'}, {'lavel': 'Rwanda', 'value': 'Rwanda'}, {'lavel': 'Saint Kitts and Nevis', 'value': 'Saint Kitts and Nevis'}, {'lavel': 'Saint Lucia', 'value': 'Saint Lucia'}, {'lavel': 'Saint Vincent and the Grenadines', 'value': 'Saint Vincent and the Grenadines'}, {'lavel': 'San Marino', 'value': 'San Marino'}, {'lavel': 'Sao Tome and Principe', 'value': 'Sao Tome and Principe'}, {'lavel': 'Saudi Arabia', 'value': 'Saudi Arabia'}, {'lavel': 'Senegal', 'value': 'Senegal'}, {'lavel': 'Serbia', 'value': 'Serbia'}, {'lavel': 'Seychelles', 'value': 'Seychelles'}, {'lavel': 'Sierra Leone', 'value': 'Sierra Leone'}, {'lavel': 'Singapore', 'value': 'Singapore'}, {'lavel': 'Slovakia', 'value': 'Slovakia'}, {'lavel': 'Slovenia', 'value': 'Slovenia'}, {'lavel': 'Somalia', 'value': 'Somalia'}, {'lavel': 'South Africa', 'value': 'South Africa'}, {'lavel': 'South Sudan', 'value': 'South Sudan'}, {'lavel': 'Spain', 'value': 'Spain'}, {'lavel': 'Sri Lanka', 'value': 'Sri Lanka'}, {'lavel': 'Sudan', 'value': 'Sudan'}, {'lavel': 'Suriname', 'value': 'Suriname'}, {'lavel': 'Sweden', 'value': 'Sweden'}, {'lavel': 'Switzerland', 'value': 'Switzerland'}, {'lavel': 'Syria', 'value': 'Syria'}, {'lavel': 'Taiwan*', 'value': 'Taiwan*'}, {'lavel': 'Tajikistan', 'value': 'Tajikistan'}, {'lavel': 'Tanzania', 'value': 'Tanzania'}, {'lavel': 'Thailand', 'value': 'Thailand'}, {'lavel': 'Timor-Leste', 'value': 'Timor-Leste'}, {'lavel': 'Togo', 'value': 'Togo'}, {'lavel': 'Trinidad and Tobago', 'value': 'Trinidad and Tobago'}, {'lavel': 'Tunisia', 'value': 'Tunisia'}, {'lavel': 'Turkey', 'value': 'Turkey'}, {'lavel': 'US', 'value': 'US'}, {'lavel': 'Uganda', 'value': 'Uganda'}, {'lavel': 'Ukraine', 'value': 'Ukraine'}, {'lavel': 'United Arab Emirates', 'value': 'United Arab Emirates'}, {'lavel': 'United Kingdom', 'value': 'United Kingdom'}, {'lavel': 'Uruguay', 'value': 'Uruguay'}, {'lavel': 'Uzbekistan', 'value': 'Uzbekistan'}, {'lavel': 'Venezuela', 'value': 'Venezuela'}, {'lavel': 'Vietnam', 'value': 'Vietnam'}, {'lavel': 'West Bank and Gaza', 'value': 'West Bank and Gaza'}, {'lavel': 'Western Sahara', 'value': 'Western Sahara'}, {'lavel': 'Yemen', 'value': 'Yemen'}, {'lavel': 'Zambia', 'value': 'Zambia'}, {'lavel': 'Zimbabwe', 'value': 'Zimbabwe'}, {'lavel': 'Worldwide', 'value': 'Worldwide'}]\n"
          ],
          "name": "stdout"
        }
      ]
    },
    {
      "cell_type": "markdown",
      "metadata": {
        "id": "BICor1r1_dWv",
        "colab_type": "text"
      },
      "source": [
        "#### dash program core"
      ]
    },
    {
      "cell_type": "code",
      "metadata": {
        "id": "4WTWClqk_iOr",
        "colab_type": "code",
        "outputId": "d6107fdc-c4b9-4edd-d084-518929eed030",
        "colab": {
          "base_uri": "https://localhost:8080/",
          "height": 312
        }
      },
      "source": [
        "# -*- coding: utf-8 -*-\n",
        "import os\n",
        "import datetime\n",
        "import dash\n",
        "import dash_core_components as dcc\n",
        "import dash_html_components as html\n",
        "from dash.dependencies import Input, Output\n",
        "import numpy as np\n",
        "import pandas as pd\n",
        "\n",
        "DIRCSV = 'static/csv/'\n",
        "CSV_FILES = ('covid19_ww_confirmed_global.csv',\n",
        "            'covid19_ww_deaths_global.csv',\n",
        "            'covid19_ww_recovered_global.csv',\n",
        "            'covid19_jp_prf_cfm.csv',\n",
        "            'covid19_jp_prf_dth.csv',\n",
        "            'covid19_jp_prf_rcv.csv',\n",
        "            'covid19_jp_prf_male.csv',\n",
        "            'covid19_jp_prf_female.csv',\n",
        "            'covid19_jp_prf_gen.csv')\n",
        "\n",
        "df0 = pd.read_csv(DIRCSV + CSV_FILES[0])\n",
        "df1 = pd.read_csv(DIRCSV + CSV_FILES[1])\n",
        "df2 = pd.read_csv(DIRCSV + CSV_FILES[2])\n",
        "df3 = pd.read_csv(DIRCSV + CSV_FILES[3])\n",
        "df4 = pd.read_csv(DIRCSV + CSV_FILES[4])\n",
        "df5 = pd.read_csv(DIRCSV + CSV_FILES[5])\n",
        "df6 = pd.read_csv(DIRCSV + CSV_FILES[6])\n",
        "df7 = pd.read_csv(DIRCSV + CSV_FILES[7])\n",
        "df8 = pd.read_csv(DIRCSV + CSV_FILES[8])\n",
        "\n",
        "df0 = df0.set_index('Country/Region')\n",
        "df0.loc['Worldwide'] = df0.sum()\n",
        "df0_x = df0.columns.tolist()\n",
        "df0_y = df0.loc['Worldwide', ].tolist()\n",
        "df0_z = df0.index.tolist()\n",
        "dict0 = []\n",
        "for x in df0_z:\n",
        "  dict0.append({'label': x, 'value': x})\n",
        "\n",
        "external_stylesheets = ['https://codepen.io/chriddyp/pen/bWLwgP.css']\n",
        "\n",
        "app = dash.Dash(__name__, external_stylesheets=external_stylesheets)\n",
        "\n",
        "# 背景色と文字色の設定\n",
        "colors = {\n",
        "    'background': '#111111',\n",
        "    'text': '#7FDBFF'\n",
        "}\n",
        "\n",
        "app.layout = html.Div(style={'backgroundColor': colors['background']}, children=[\n",
        "    html.H1(\n",
        "      children='COVID19ダッシュボード',\n",
        "      style={'textAlign': 'center',\n",
        "            'color': colors['text']\n",
        "      }\n",
        "    ),\n",
        "\n",
        "    html.Div(\n",
        "      children='COVID19ワールドワイド及び日本国内感染者数情報', \n",
        "      style={'textAlign': 'center',\n",
        "        'color': colors['text']\n",
        "      }\n",
        "    ),\n",
        "\n",
        "    dcc.Dropdown(\n",
        "      id='my_ticker_symbol',\n",
        "      options=dict0,\n",
        "      value='Worldwide',\n",
        "    ),\n",
        "\n",
        "    dcc.Graph(\n",
        "        id='example-graph',\n",
        "        figure={\n",
        "            'data':[\n",
        "              {'x': df0_x, 'y': df0_y}\n",
        "            ],\n",
        "            'layout': {\n",
        "                'plot_bgcolor': colors['background'],\n",
        "                'paper_bgcolor': colors['background'],\n",
        "                'font': {\n",
        "                    'color': colors['text']\n",
        "                }\n",
        "            }\n",
        "        }\n",
        "    )\n",
        "])\n",
        "\n",
        "@app.callback(\n",
        "  Output('example-graph', 'figure'),\n",
        "  [Input('my_ticker_symbol', 'value')])\n",
        "\n",
        "def update_graph(stock_ticker):\n",
        "  df0_y = df0.loc[stock_ticker, ].tolist()\n",
        "  fig = {\n",
        "    'data':[\n",
        "      {'x': df0_x, 'y': df0_y}\n",
        "    ],\n",
        "    'layout': {\n",
        "      'title': stock_ticker,\n",
        "      'plot_bgcolor': colors['background'],\n",
        "      'paper_bgcolor': colors['background'],\n",
        "      'font': {'color': colors['text']}\n",
        "    }\n",
        "  }\n",
        "  return fig\n",
        "\n",
        "\n",
        "if __name__ == '__main__':\n",
        "    app.run_server(debug=True)"
      ],
      "execution_count": 0,
      "outputs": [
        {
          "output_type": "stream",
          "text": [
            "Running on http://127.0.0.1:8050/\n",
            "Debugger PIN: 311-177-966\n",
            " * Serving Flask app \"__main__\" (lazy loading)\n",
            " * Environment: production\n",
            "\u001b[31m   WARNING: This is a development server. Do not use it in a production deployment.\u001b[0m\n",
            "\u001b[2m   Use a production WSGI server instead.\u001b[0m\n",
            " * Debug mode: on\n"
          ],
          "name": "stdout"
        },
        {
          "output_type": "error",
          "ename": "SystemExit",
          "evalue": "ignored",
          "traceback": [
            "An exception has occurred, use %tb to see the full traceback.\n",
            "\u001b[0;31mSystemExit\u001b[0m\u001b[0;31m:\u001b[0m 1\n"
          ]
        },
        {
          "output_type": "stream",
          "text": [
            "/usr/local/lib/python3.6/dist-packages/IPython/core/interactiveshell.py:2890: UserWarning:\n",
            "\n",
            "To exit: use 'exit', 'quit', or Ctrl-D.\n",
            "\n"
          ],
          "name": "stderr"
        }
      ]
    },
    {
      "cell_type": "markdown",
      "metadata": {
        "id": "GLLTJ84mI8P4",
        "colab_type": "text"
      },
      "source": [
        "#### sample app.py"
      ]
    },
    {
      "cell_type": "code",
      "metadata": {
        "id": "62qyZWe6I__a",
        "colab_type": "code",
        "colab": {}
      },
      "source": [
        "btsrp = \"\"\"\n",
        "import dash\n",
        "import dash_bootstrap_components as dbc\n",
        "\n",
        "app = dash.Dash()\n",
        "\n",
        "app.layout = dbc.Container(\n",
        "    dbc.Alert(\"Hello Bootstrap!\", color=\"success\"),\n",
        "    className=\"p-5\",\n",
        ")\n",
        "\n",
        "if __name__ == \"__main__\":\n",
        "    app.run_server()\n",
        "\"\"\"\n",
        "\n",
        "with open('app.py', mode='w') as f:\n",
        "  f.write(btsrp)\n",
        "\n"
      ],
      "execution_count": 0,
      "outputs": []
    }
  ]
}